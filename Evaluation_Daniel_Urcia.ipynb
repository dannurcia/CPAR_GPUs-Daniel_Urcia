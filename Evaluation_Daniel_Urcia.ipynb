{
 "cells": [
  {
   "cell_type": "markdown",
   "id": "4714164e-62a7-4088-809c-44cecf306484",
   "metadata": {},
   "source": [
    "# Evaluación del curso \"Computación Paralela con GPU's\"\n",
    "\n",
    "**AUTOR: Daniel A. Urcia Paredes**\n",
    "\n",
    "A continuación, se desarrollan cada una de las actividades solicitadas."
   ]
  },
  {
   "cell_type": "markdown",
   "id": "bec0e9b8-31b4-4a40-a1c1-91c7b6c945b5",
   "metadata": {},
   "source": [
    "## 0. Clonar el repositorio \"oneAPI-samples\" [1 punto]"
   ]
  },
  {
   "cell_type": "markdown",
   "id": "41c5b5a7-5866-4903-a34f-712d5e789834",
   "metadata": {},
   "source": [
    "Para ello, se accederá a través de los comandos que nos ofrece git. Primero, veremos la ubicación actual:"
   ]
  },
  {
   "cell_type": "code",
   "execution_count": 9,
   "id": "f735f555-ed08-48f6-8e0b-101be4f794e8",
   "metadata": {},
   "outputs": [],
   "source": [
    "!cd /home/u185959"
   ]
  },
  {
   "cell_type": "markdown",
   "id": "0f0af2ff-30de-42a5-a061-b84c934d4453",
   "metadata": {},
   "source": [
    "Procediendo a clonar con \"git clone\""
   ]
  },
  {
   "cell_type": "code",
   "execution_count": null,
   "id": "ce98d149-af2b-4a5d-9de8-52c07769cb01",
   "metadata": {},
   "outputs": [
    {
     "name": "stdout",
     "output_type": "stream",
     "text": [
      "Cloning into 'oneAPI-samples'...\n",
      "remote: Enumerating objects: 24959, done.\u001b[K\n",
      "remote: Counting objects: 100% (419/419), done.\u001b[K\n",
      "remote: Compressing objects: 100% (276/276), done.\u001b[K\n",
      "remote: Total 24959 (delta 176), reused 328 (delta 134), pack-reused 24540\u001b[K\n",
      "Receiving objects: 100% (24959/24959), 256.67 MiB | 3.56 MiB/s, done.\n",
      "Resolving deltas: 100% (16320/16320), done.\n",
      "Updating files:  45% (1556/3457)\r"
     ]
    }
   ],
   "source": [
    "!git clone https://github.com/oneapi-src/oneAPI-samples"
   ]
  },
  {
   "cell_type": "markdown",
   "id": "e753c158-a220-4bb7-860d-c09e7c49e49a",
   "metadata": {},
   "source": [
    "## 1. Cambiar al directorio del ejemplo \"NBody\" [1 punto]\n",
    "- Directorio: `oneAPI-samples/tree/master/DirectProgramming/C++SYCL/N-BodyMethods/Nbody`"
   ]
  },
  {
   "cell_type": "markdown",
   "id": "d76a2265-e327-4585-9dec-53b650c04461",
   "metadata": {},
   "source": [
    "Para ellos cambiamos el directorio con el comando \"cd\""
   ]
  },
  {
   "cell_type": "code",
   "execution_count": 10,
   "id": "685ab9be-e1ff-4edb-bf94-056c12e4cc5e",
   "metadata": {},
   "outputs": [
    {
     "name": "stdout",
     "output_type": "stream",
     "text": [
      "/home/u185959/computacion_paralela/CPAR_GPUs/oneAPI-samples/DirectProgramming/C++SYCL/N-BodyMethods/Nbody\n"
     ]
    }
   ],
   "source": [
    "cd oneAPI-samples/DirectProgramming/C++SYCL/N-BodyMethods/Nbody"
   ]
  },
  {
   "cell_type": "markdown",
   "id": "905275a3-ccb3-461c-a807-f4755c5b1bd2",
   "metadata": {},
   "source": [
    "Verificando la ubicación actual:"
   ]
  },
  {
   "cell_type": "code",
   "execution_count": 11,
   "id": "a5c4b1e3-3f0f-4ef2-b9bf-e8dab8dfd085",
   "metadata": {},
   "outputs": [
    {
     "data": {
      "text/plain": [
       "'/home/u185959/computacion_paralela/CPAR_GPUs/oneAPI-samples/DirectProgramming/C++SYCL/N-BodyMethods/Nbody'"
      ]
     },
     "execution_count": 11,
     "metadata": {},
     "output_type": "execute_result"
    }
   ],
   "source": [
    "pwd"
   ]
  },
  {
   "cell_type": "markdown",
   "id": "b118de32-47b2-45e7-8064-139678ebba8f",
   "metadata": {},
   "source": [
    "## 2. Explicar brevemente el algoritmo de `Nbody` [3 puntos]"
   ]
  },
  {
   "cell_type": "markdown",
   "id": "d00dc699-fc2f-49b8-bfe5-24d7c49d4658",
   "metadata": {},
   "source": [
    "El algoritmo de **NBody** refiere a una clase de métodos de simulación que permiten modelar el comportamiento de un sistema físico utilizando un conjunto de entidades discretas como átomos, cuerpos astrofísicos, etc., y un conjunto de interacciones entre ellos denominados **potenciales de acoplamiento**, tales como la fuerza, aceleración, velocidad, posición, entre otros, las cuales dependen del tiempo.\n",
    "\n",
    "Este algoritmo es muy paralelo a los datos, por lo que el código se adecua muy bien para ejecutarlo en un GPU, además demuestra cómo lidiar con varios núcleos de dispositivos que se pueden poner en una cola SYCL para su ejecución."
   ]
  },
  {
   "cell_type": "markdown",
   "id": "1471bc7f-7a2c-42bb-8a80-0a94afdcd618",
   "metadata": {},
   "source": [
    "## 3. Acceder en modo interactivo a un nodo de cómputo con GPUs (`gen9` o `gen11`) [3 puntos]\n",
    "- Compilar y ejecutar `Nbody`\n",
    "- Proporcionar screenshot(s) de los resultados\n",
    "- Por cada screenshot, añadir una breve descripción\n"
   ]
  },
  {
   "cell_type": "markdown",
   "id": "bade1aa2-f4ca-40c9-894c-b98ec851afef",
   "metadata": {},
   "source": [
    "En este punto, primero se debe acceder al nodo en modo interactivo, para ello se ha escogido el gen11."
   ]
  },
  {
   "cell_type": "code",
   "execution_count": null,
   "id": "c8e96742-02d5-4c33-9351-ad19dc8bf33d",
   "metadata": {},
   "outputs": [
    {
     "name": "stdout",
     "output_type": "stream",
     "text": [
      "qsub: waiting for job 2254252.v-qsvr-1.aidevcloud to start\n",
      "qsub: job 2254252.v-qsvr-1.aidevcloud ready\n",
      "\n",
      "\n",
      "########################################################################\n",
      "#      Date:           Thu 16 Mar 2023 12:11:51 PM PDT\n",
      "#    Job ID:           2254252.v-qsvr-1.aidevcloud\n",
      "#      User:           u185959\n",
      "# Resources:           cput=75:00:00,neednodes=1:gen11:ppn=2,nodes=1:gen11:ppn=2,walltime=06:00:00\n",
      "########################################################################\n",
      "\n",
      "\u001b]0;u185959@s019-n008: ~/computacion_paralela/CPAR_GPUs/oneAPI-samples/DirectProgramming/C++SYCL/N-BodyMethods/Nbody\u0007\u001b[01;32mu185959@s019-n008\u001b[00m:\u001b[01;34m~/computacion_paralela/CPAR_GPUs/oneAPI-samples/DirectProgramming/C++SYCL/N-BodyMethods/Nbody\u001b[00m$ "
     ]
    }
   ],
   "source": [
    "!qsub -I -l nodes=1:gen11:ppn=2 -d ."
   ]
  },
  {
   "cell_type": "markdown",
   "id": "d92e789e-227d-499d-992d-ed23093bd416",
   "metadata": {},
   "source": [
    "Una vez conectado al nodo, se verificará qué dispositivos soporta:"
   ]
  },
  {
   "cell_type": "code",
   "execution_count": 1,
   "id": "ae633127-717e-4b15-8834-fc0815cb7ca9",
   "metadata": {},
   "outputs": [
    {
     "name": "stdout",
     "output_type": "stream",
     "text": [
      "[opencl:acc:0] Intel(R) FPGA Emulation Platform for OpenCL(TM), Intel(R) FPGA Emulation Device 1.2 [2022.15.12.0.01_081451]\n",
      "[opencl:cpu:1] Intel(R) OpenCL, Intel(R) Xeon(R) Gold 6128 CPU @ 3.40GHz 3.0 [2022.15.12.0.01_081451]\n"
     ]
    }
   ],
   "source": [
    "!sycl-ls"
   ]
  },
  {
   "cell_type": "markdown",
   "id": "f8da43f6-6dd2-41d4-959b-4011e085b0ac",
   "metadata": {},
   "source": [
    "Lo que se observa es que este nodo dispone de un acelerador FPGA y un CPU Intel Xeon."
   ]
  },
  {
   "cell_type": "markdown",
   "id": "a5e14588-cf28-48c6-bc67-70f0103ded48",
   "metadata": {},
   "source": [
    "**Compilando y ejecutando \"NBody\"**"
   ]
  },
  {
   "cell_type": "markdown",
   "id": "4e2e1443-0e22-44bb-8471-6e3174b248f2",
   "metadata": {},
   "source": [
    "Construyendo el programa:"
   ]
  },
  {
   "cell_type": "code",
   "execution_count": 8,
   "id": "94f95f21-be72-4262-9191-ca6b39f0d608",
   "metadata": {},
   "outputs": [],
   "source": [
    "mkdir build"
   ]
  },
  {
   "cell_type": "code",
   "execution_count": 9,
   "id": "a520bb69-0d35-41ad-a548-598c2ab669a9",
   "metadata": {},
   "outputs": [
    {
     "name": "stdout",
     "output_type": "stream",
     "text": [
      "/home/u185959/computacion_paralela/CPAR_GPUs/oneAPI-samples/DirectProgramming/C++SYCL/N-BodyMethods/Nbody/build\n"
     ]
    }
   ],
   "source": [
    "cd build"
   ]
  },
  {
   "cell_type": "code",
   "execution_count": 11,
   "id": "50139cab-55c9-4cf6-9571-49d6b33b22f3",
   "metadata": {},
   "outputs": [
    {
     "name": "stdout",
     "output_type": "stream",
     "text": [
      "-- The C compiler identification is GNU 9.4.0\n",
      "-- The CXX compiler identification is Clang 16.0.0\n",
      "-- Check for working C compiler: /usr/bin/cc\n",
      "-- Check for working C compiler: /usr/bin/cc -- works\n",
      "-- Detecting C compiler ABI info\n",
      "-- Detecting C compiler ABI info - done\n",
      "-- Detecting C compile features\n",
      "-- Detecting C compile features - done\n",
      "-- Check for working CXX compiler: /glob/development-tools/versions/oneapi/2023.0.1/oneapi/compiler/2023.0.0/linux/bin/icpx\n",
      "-- Check for working CXX compiler: /glob/development-tools/versions/oneapi/2023.0.1/oneapi/compiler/2023.0.0/linux/bin/icpx -- works\n",
      "-- Detecting CXX compiler ABI info\n",
      "-- Detecting CXX compiler ABI info - done\n",
      "-- Detecting CXX compile features\n",
      "-- Detecting CXX compile features - done\n",
      "-- Configuring done\n",
      "-- Generating done\n",
      "-- Build files have been written to: /home/u185959/computacion_paralela/CPAR_GPUs/oneAPI-samples/DirectProgramming/C++SYCL/N-BodyMethods/Nbody/build\n"
     ]
    }
   ],
   "source": [
    "!cmake .."
   ]
  },
  {
   "cell_type": "code",
   "execution_count": 13,
   "id": "93f98a4b-fb30-46a9-a8a1-a9d31be87e94",
   "metadata": {},
   "outputs": [
    {
     "name": "stdout",
     "output_type": "stream",
     "text": [
      "\u001b[35m\u001b[1mScanning dependencies of target nbody\u001b[0m\n",
      "[ 33%] \u001b[32mBuilding CXX object src/CMakeFiles/nbody.dir/GSimulation.cpp.o\u001b[0m\n",
      "[ 66%] \u001b[32mBuilding CXX object src/CMakeFiles/nbody.dir/main.cpp.o\u001b[0m\n",
      "[100%] \u001b[32m\u001b[1mLinking CXX executable nbody\u001b[0m\n",
      "[100%] Built target nbody\n"
     ]
    }
   ],
   "source": [
    "!make"
   ]
  },
  {
   "cell_type": "markdown",
   "id": "f0a64453-043c-48eb-ac27-9b311fc30860",
   "metadata": {},
   "source": [
    "Ejecutando el programa:"
   ]
  },
  {
   "cell_type": "code",
   "execution_count": 15,
   "id": "420b5065-f27f-4848-b9b6-8b0f3fc0b8bc",
   "metadata": {},
   "outputs": [
    {
     "name": "stdout",
     "output_type": "stream",
     "text": [
      "\u001b[35m\u001b[1mScanning dependencies of target run\u001b[0m\n",
      "===============================\n",
      " Initialize Gravity Simulation\n",
      " nPart = 16000; nSteps = 10; dt = 0.1\n",
      "------------------------------------------------\n",
      " s       dt      kenergy     time (s)    GFLOPS      \n",
      "------------------------------------------------\n",
      " 1       0.1     26.405      0.96413     7.7005      \n",
      " 2       0.2     313.77      0.025533    290.78      \n",
      " 3       0.3     926.56      0.016176    458.98      \n",
      " 4       0.4     1866.4      0.015141    490.34      \n",
      " 5       0.5     3135.6      0.015565    476.98      \n",
      " 6       0.6     4737.6      0.015174    489.29      \n",
      " 7       0.7     6676.6      0.015117    491.12      \n",
      " 8       0.8     8957.7      0.01513     490.72      \n",
      " 9       0.9     11587       0.016008    463.79      \n",
      " 10      1       14572       0.015962    465.11      \n",
      "\n",
      "# Total Time (s)     : 1.1142\n",
      "# Average Performance : 478.29 +- 12.96\n",
      "===============================\n",
      "Built target run\n"
     ]
    }
   ],
   "source": [
    "!make run"
   ]
  },
  {
   "cell_type": "markdown",
   "id": "9d9d91df-a903-4134-b651-d395fd41bf23",
   "metadata": {},
   "source": [
    "**Breves descripciones de los resultados**"
   ]
  },
  {
   "cell_type": "markdown",
   "id": "1d124d4e-f655-4de7-ab36-edeedce9302a",
   "metadata": {},
   "source": [
    "CMake a través de sus comando **!cmake ..** y **make**, como sistema de generación de scripts para el entorno de trabajo utilizado genera los archivos necesarios para la ejecución del algoritmo y los guarda en la dirección \"/home/u185959/computacion_paralela/CPAR_GPUs/oneAPI-samples/DirectProgramming/C++SYCL/N-BodyMethods/Nbody/build\". Luego, permite correr los archivos ejecutables generados anteriormente que contienen el algoritmo **NBody**."
   ]
  },
  {
   "cell_type": "markdown",
   "id": "aa35e876-99cf-4f88-9884-95bcb16d2112",
   "metadata": {},
   "source": [
    "Este algoritmo inicia la simulación de la gravedad con un número de partículas (nPart) igual a 16000, considera también 10 pasos de integración (nSteps) y \n",
    "un diferencial de tiempo (dt) igual a 0.1. El cálculo de los parámetros depende de las \"nParts-1\" partículas restantes. Se observa en la tabla de resultados que, a medida que el tiempo transcurre, el sistema de partículas aumenta su energía y el consumo computacional en promedio aumenta y se acerca a medio teraflop."
   ]
  },
  {
   "cell_type": "markdown",
   "id": "aff7488d-1f3d-4490-9844-67c8548315a8",
   "metadata": {},
   "source": [
    "## 4. Realizar un análisis de _**GPU Hotspots**_ con VTune [8 puntos]\n",
    "- Indicar los hotspots del programa\n",
    "- Proporcionar screenshot(s) de los resultados\n",
    "- Por cada screenshot, añadir una breve descripción"
   ]
  },
  {
   "cell_type": "code",
   "execution_count": null,
   "id": "1457d114-d651-40c5-b441-f5fa35c5b1ba",
   "metadata": {},
   "outputs": [],
   "source": []
  },
  {
   "cell_type": "code",
   "execution_count": null,
   "id": "798e26e1-59f2-4d5a-aef6-95886cf755ed",
   "metadata": {},
   "outputs": [],
   "source": []
  },
  {
   "cell_type": "code",
   "execution_count": null,
   "id": "234d0530-005c-4d61-8bba-5e23043dcfbe",
   "metadata": {},
   "outputs": [],
   "source": []
  },
  {
   "cell_type": "code",
   "execution_count": null,
   "id": "caff1d37-8150-4671-a995-346075aa3794",
   "metadata": {},
   "outputs": [],
   "source": []
  }
 ],
 "metadata": {
  "kernelspec": {
   "display_name": "Python 3 (Intel® oneAPI 2023.0)",
   "language": "python",
   "name": "c009-intel_distribution_of_python_3_oneapi-beta05-python"
  },
  "language_info": {
   "codemirror_mode": {
    "name": "ipython",
    "version": 3
   },
   "file_extension": ".py",
   "mimetype": "text/x-python",
   "name": "python",
   "nbconvert_exporter": "python",
   "pygments_lexer": "ipython3",
   "version": "3.9.15"
  }
 },
 "nbformat": 4,
 "nbformat_minor": 5
}
