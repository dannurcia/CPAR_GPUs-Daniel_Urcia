{
 "cells": [
  {
   "cell_type": "markdown",
   "id": "4714164e-62a7-4088-809c-44cecf306484",
   "metadata": {},
   "source": [
    "# Evaluación del curso \"Computación Paralela con GPU's\"\n",
    "\n",
    "**AUTOR: Daniel A. Urcia Paredes**\n",
    "\n",
    "A continuación, se desarrollan cada una de las actividades solicitadas."
   ]
  },
  {
   "cell_type": "markdown",
   "id": "bec0e9b8-31b4-4a40-a1c1-91c7b6c945b5",
   "metadata": {},
   "source": [
    "## 0. Clonar el repositorio \"oneAPI-samples\" [1 punto]"
   ]
  },
  {
   "cell_type": "markdown",
   "id": "41c5b5a7-5866-4903-a34f-712d5e789834",
   "metadata": {},
   "source": [
    "Para ello, se accederá a través de los comandos que nos ofrece git. Primero, veremos la ubicación actual:"
   ]
  },
  {
   "cell_type": "code",
   "execution_count": 9,
   "id": "f735f555-ed08-48f6-8e0b-101be4f794e8",
   "metadata": {},
   "outputs": [],
   "source": [
    "!cd /home/u185959"
   ]
  },
  {
   "cell_type": "markdown",
   "id": "0f0af2ff-30de-42a5-a061-b84c934d4453",
   "metadata": {},
   "source": [
    "Procediendo a clonar con \"git clone\""
   ]
  },
  {
   "cell_type": "code",
   "execution_count": null,
   "id": "ce98d149-af2b-4a5d-9de8-52c07769cb01",
   "metadata": {},
   "outputs": [
    {
     "name": "stdout",
     "output_type": "stream",
     "text": [
      "Cloning into 'oneAPI-samples'...\n",
      "remote: Enumerating objects: 24959, done.\u001b[K\n",
      "remote: Counting objects: 100% (419/419), done.\u001b[K\n",
      "remote: Compressing objects: 100% (276/276), done.\u001b[K\n",
      "remote: Total 24959 (delta 176), reused 328 (delta 134), pack-reused 24540\u001b[K\n",
      "Receiving objects: 100% (24959/24959), 256.67 MiB | 3.56 MiB/s, done.\n",
      "Resolving deltas: 100% (16320/16320), done.\n",
      "Updating files:  45% (1556/3457)\r"
     ]
    }
   ],
   "source": [
    "!git clone https://github.com/oneapi-src/oneAPI-samples"
   ]
  },
  {
   "cell_type": "markdown",
   "id": "e753c158-a220-4bb7-860d-c09e7c49e49a",
   "metadata": {},
   "source": [
    "## 1. Cambiar al directorio del ejemplo \"NBody\" [1 punto]\n",
    "- Directorio: `oneAPI-samples/tree/master/DirectProgramming/C++SYCL/N-BodyMethods/Nbody`"
   ]
  },
  {
   "cell_type": "markdown",
   "id": "d76a2265-e327-4585-9dec-53b650c04461",
   "metadata": {},
   "source": [
    "Para ellos cambiamos el directorio con el comando \"cd\""
   ]
  },
  {
   "cell_type": "code",
   "execution_count": 10,
   "id": "685ab9be-e1ff-4edb-bf94-056c12e4cc5e",
   "metadata": {},
   "outputs": [
    {
     "name": "stdout",
     "output_type": "stream",
     "text": [
      "/home/u185959/computacion_paralela/CPAR_GPUs/oneAPI-samples/DirectProgramming/C++SYCL/N-BodyMethods/Nbody\n"
     ]
    }
   ],
   "source": [
    "cd oneAPI-samples/DirectProgramming/C++SYCL/N-BodyMethods/Nbody"
   ]
  },
  {
   "cell_type": "markdown",
   "id": "905275a3-ccb3-461c-a807-f4755c5b1bd2",
   "metadata": {},
   "source": [
    "Verificando la ubicación actual:"
   ]
  },
  {
   "cell_type": "code",
   "execution_count": 11,
   "id": "a5c4b1e3-3f0f-4ef2-b9bf-e8dab8dfd085",
   "metadata": {},
   "outputs": [
    {
     "data": {
      "text/plain": [
       "'/home/u185959/computacion_paralela/CPAR_GPUs/oneAPI-samples/DirectProgramming/C++SYCL/N-BodyMethods/Nbody'"
      ]
     },
     "execution_count": 11,
     "metadata": {},
     "output_type": "execute_result"
    }
   ],
   "source": [
    "pwd"
   ]
  },
  {
   "cell_type": "markdown",
   "id": "b118de32-47b2-45e7-8064-139678ebba8f",
   "metadata": {},
   "source": [
    "## 2. Explicar brevemente el algoritmo de `Nbody` [3 puntos]"
   ]
  },
  {
   "cell_type": "markdown",
   "id": "d00dc699-fc2f-49b8-bfe5-24d7c49d4658",
   "metadata": {},
   "source": [
    "El algoritmo de **NBody** refiere a una clase de métodos de simulación que permiten modelar el comportamiento de un sistema físico utilizando un conjunto de entidades discretas como átomos, cuerpos astrofísicos, etc., y un conjunto de interacciones entre ellos denominados **potenciales de acoplamiento**, tales como la fuerza, aceleración, velocidad, posición, entre otros, las cuales dependen del tiempo.\n",
    "\n",
    "Este algoritmo es muy paralelo a los datos, por lo que el código se adecua muy bien para ejecutarlo en un GPU, además demuestra cómo lidiar con varios núcleos de dispositivos que se pueden poner en una cola SYCL para su ejecución."
   ]
  },
  {
   "cell_type": "markdown",
   "id": "1471bc7f-7a2c-42bb-8a80-0a94afdcd618",
   "metadata": {},
   "source": [
    "## 3. Acceder en modo interactivo a un nodo de cómputo con GPUs (`gen9` o `gen11`) [3 puntos]\n",
    "- Compilar y ejecutar `Nbody`\n",
    "- Proporcionar screenshot(s) de los resultados\n",
    "- Por cada screenshot, añadir una breve descripción\n"
   ]
  },
  {
   "cell_type": "markdown",
   "id": "bade1aa2-f4ca-40c9-894c-b98ec851afef",
   "metadata": {},
   "source": [
    "En este punto, primero se debe acceder al nodo en modo interactivo, para ello se ha escogido el gen11."
   ]
  },
  {
   "cell_type": "code",
   "execution_count": null,
   "id": "c8e96742-02d5-4c33-9351-ad19dc8bf33d",
   "metadata": {},
   "outputs": [
    {
     "name": "stdout",
     "output_type": "stream",
     "text": [
      "qsub: waiting for job 2254252.v-qsvr-1.aidevcloud to start\n",
      "qsub: job 2254252.v-qsvr-1.aidevcloud ready\n",
      "\n",
      "\n",
      "########################################################################\n",
      "#      Date:           Thu 16 Mar 2023 12:11:51 PM PDT\n",
      "#    Job ID:           2254252.v-qsvr-1.aidevcloud\n",
      "#      User:           u185959\n",
      "# Resources:           cput=75:00:00,neednodes=1:gen11:ppn=2,nodes=1:gen11:ppn=2,walltime=06:00:00\n",
      "########################################################################\n",
      "\n",
      "\u001b]0;u185959@s019-n008: ~/computacion_paralela/CPAR_GPUs/oneAPI-samples/DirectProgramming/C++SYCL/N-BodyMethods/Nbody\u0007\u001b[01;32mu185959@s019-n008\u001b[00m:\u001b[01;34m~/computacion_paralela/CPAR_GPUs/oneAPI-samples/DirectProgramming/C++SYCL/N-BodyMethods/Nbody\u001b[00m$ "
     ]
    }
   ],
   "source": [
    "!qsub -I -l nodes=1:gen11:ppn=2 -d ."
   ]
  },
  {
   "cell_type": "markdown",
   "id": "d92e789e-227d-499d-992d-ed23093bd416",
   "metadata": {},
   "source": [
    "Una vez conectado al nodo, se verificará qué dispositivos soporta:"
   ]
  },
  {
   "cell_type": "code",
   "execution_count": 1,
   "id": "ae633127-717e-4b15-8834-fc0815cb7ca9",
   "metadata": {},
   "outputs": [
    {
     "name": "stdout",
     "output_type": "stream",
     "text": [
      "[opencl:acc:0] Intel(R) FPGA Emulation Platform for OpenCL(TM), Intel(R) FPGA Emulation Device 1.2 [2022.15.12.0.01_081451]\n",
      "[opencl:cpu:1] Intel(R) OpenCL, Intel(R) Xeon(R) Gold 6128 CPU @ 3.40GHz 3.0 [2022.15.12.0.01_081451]\n"
     ]
    }
   ],
   "source": [
    "!sycl-ls"
   ]
  },
  {
   "cell_type": "markdown",
   "id": "f8da43f6-6dd2-41d4-959b-4011e085b0ac",
   "metadata": {},
   "source": [
    "Lo que se observa es que este nodo dispone de un acelerador FPGA y un CPU Intel Xeon."
   ]
  },
  {
   "cell_type": "markdown",
   "id": "a5e14588-cf28-48c6-bc67-70f0103ded48",
   "metadata": {},
   "source": [
    "**Compilando y ejecutando \"NBody\"**"
   ]
  },
  {
   "cell_type": "markdown",
   "id": "4e2e1443-0e22-44bb-8471-6e3174b248f2",
   "metadata": {},
   "source": [
    "Construyendo el programa:"
   ]
  },
  {
   "cell_type": "code",
   "execution_count": 8,
   "id": "94f95f21-be72-4262-9191-ca6b39f0d608",
   "metadata": {},
   "outputs": [],
   "source": [
    "mkdir build"
   ]
  },
  {
   "cell_type": "code",
   "execution_count": 9,
   "id": "a520bb69-0d35-41ad-a548-598c2ab669a9",
   "metadata": {},
   "outputs": [
    {
     "name": "stdout",
     "output_type": "stream",
     "text": [
      "/home/u185959/computacion_paralela/CPAR_GPUs/oneAPI-samples/DirectProgramming/C++SYCL/N-BodyMethods/Nbody/build\n"
     ]
    }
   ],
   "source": [
    "cd build"
   ]
  },
  {
   "cell_type": "code",
   "execution_count": 11,
   "id": "50139cab-55c9-4cf6-9571-49d6b33b22f3",
   "metadata": {},
   "outputs": [
    {
     "name": "stdout",
     "output_type": "stream",
     "text": [
      "-- The C compiler identification is GNU 9.4.0\n",
      "-- The CXX compiler identification is Clang 16.0.0\n",
      "-- Check for working C compiler: /usr/bin/cc\n",
      "-- Check for working C compiler: /usr/bin/cc -- works\n",
      "-- Detecting C compiler ABI info\n",
      "-- Detecting C compiler ABI info - done\n",
      "-- Detecting C compile features\n",
      "-- Detecting C compile features - done\n",
      "-- Check for working CXX compiler: /glob/development-tools/versions/oneapi/2023.0.1/oneapi/compiler/2023.0.0/linux/bin/icpx\n",
      "-- Check for working CXX compiler: /glob/development-tools/versions/oneapi/2023.0.1/oneapi/compiler/2023.0.0/linux/bin/icpx -- works\n",
      "-- Detecting CXX compiler ABI info\n",
      "-- Detecting CXX compiler ABI info - done\n",
      "-- Detecting CXX compile features\n",
      "-- Detecting CXX compile features - done\n",
      "-- Configuring done\n",
      "-- Generating done\n",
      "-- Build files have been written to: /home/u185959/computacion_paralela/CPAR_GPUs/oneAPI-samples/DirectProgramming/C++SYCL/N-BodyMethods/Nbody/build\n"
     ]
    }
   ],
   "source": [
    "!cmake .."
   ]
  },
  {
   "cell_type": "code",
   "execution_count": 13,
   "id": "93f98a4b-fb30-46a9-a8a1-a9d31be87e94",
   "metadata": {},
   "outputs": [
    {
     "name": "stdout",
     "output_type": "stream",
     "text": [
      "\u001b[35m\u001b[1mScanning dependencies of target nbody\u001b[0m\n",
      "[ 33%] \u001b[32mBuilding CXX object src/CMakeFiles/nbody.dir/GSimulation.cpp.o\u001b[0m\n",
      "[ 66%] \u001b[32mBuilding CXX object src/CMakeFiles/nbody.dir/main.cpp.o\u001b[0m\n",
      "[100%] \u001b[32m\u001b[1mLinking CXX executable nbody\u001b[0m\n",
      "[100%] Built target nbody\n"
     ]
    }
   ],
   "source": [
    "!make"
   ]
  },
  {
   "cell_type": "markdown",
   "id": "f0a64453-043c-48eb-ac27-9b311fc30860",
   "metadata": {},
   "source": [
    "Ejecutando el programa:"
   ]
  },
  {
   "cell_type": "code",
   "execution_count": 15,
   "id": "420b5065-f27f-4848-b9b6-8b0f3fc0b8bc",
   "metadata": {},
   "outputs": [
    {
     "name": "stdout",
     "output_type": "stream",
     "text": [
      "\u001b[35m\u001b[1mScanning dependencies of target run\u001b[0m\n",
      "===============================\n",
      " Initialize Gravity Simulation\n",
      " nPart = 16000; nSteps = 10; dt = 0.1\n",
      "------------------------------------------------\n",
      " s       dt      kenergy     time (s)    GFLOPS      \n",
      "------------------------------------------------\n",
      " 1       0.1     26.405      0.96413     7.7005      \n",
      " 2       0.2     313.77      0.025533    290.78      \n",
      " 3       0.3     926.56      0.016176    458.98      \n",
      " 4       0.4     1866.4      0.015141    490.34      \n",
      " 5       0.5     3135.6      0.015565    476.98      \n",
      " 6       0.6     4737.6      0.015174    489.29      \n",
      " 7       0.7     6676.6      0.015117    491.12      \n",
      " 8       0.8     8957.7      0.01513     490.72      \n",
      " 9       0.9     11587       0.016008    463.79      \n",
      " 10      1       14572       0.015962    465.11      \n",
      "\n",
      "# Total Time (s)     : 1.1142\n",
      "# Average Performance : 478.29 +- 12.96\n",
      "===============================\n",
      "Built target run\n"
     ]
    }
   ],
   "source": [
    "!make run"
   ]
  },
  {
   "cell_type": "markdown",
   "id": "9d9d91df-a903-4134-b651-d395fd41bf23",
   "metadata": {},
   "source": [
    "**Breves descripciones de los resultados**"
   ]
  },
  {
   "cell_type": "markdown",
   "id": "1d124d4e-f655-4de7-ab36-edeedce9302a",
   "metadata": {},
   "source": [
    "CMake a través de sus comando **!cmake ..** y **make**, como sistema de generación de scripts para el entorno de trabajo utilizado genera los archivos necesarios para la ejecución del algoritmo y los guarda en la dirección \"/home/u185959/computacion_paralela/CPAR_GPUs/oneAPI-samples/DirectProgramming/C++SYCL/N-BodyMethods/Nbody/build\". Luego, permite correr los archivos ejecutables generados anteriormente que contienen el algoritmo **NBody**."
   ]
  },
  {
   "cell_type": "markdown",
   "id": "aa35e876-99cf-4f88-9884-95bcb16d2112",
   "metadata": {},
   "source": [
    "Este algoritmo inicia la simulación de la gravedad con un número de partículas (nPart) igual a 16000, considera también 10 pasos de integración (nSteps) y \n",
    "un diferencial de tiempo (dt) igual a 0.1. El cálculo de los parámetros depende de las \"nParts-1\" partículas restantes. Se observa en la tabla de resultados que, a medida que el tiempo transcurre, el sistema de partículas aumenta su energía y el consumo computacional en promedio aumenta y se acerca a medio teraflop."
   ]
  },
  {
   "cell_type": "markdown",
   "id": "aff7488d-1f3d-4490-9844-67c8548315a8",
   "metadata": {},
   "source": [
    "## 4. Realizar un análisis de _**GPU Hotspots**_ con VTune [8 puntos]\n",
    "- Indicar los hotspots del programa\n",
    "- Proporcionar screenshot(s) de los resultados\n",
    "- Por cada screenshot, añadir una breve descripción"
   ]
  },
  {
   "cell_type": "markdown",
   "id": "821d92b4-9679-4e04-9e85-a703621d6297",
   "metadata": {},
   "source": [
    "Para ello, ubicamos el archivo binario generado por la compilacion del código fuente del algoritmo"
   ]
  },
  {
   "cell_type": "code",
   "execution_count": null,
   "id": "798e26e1-59f2-4d5a-aef6-95886cf755ed",
   "metadata": {},
   "outputs": [
    {
     "name": "stdout",
     "output_type": "stream",
     "text": [
      "vtune: Peak bandwidth measurement started.\n",
      "vtune: Peak bandwidth measurement finished.\n",
      "vtune: Collection started. To stop the collection, either press CTRL-C or enter from another console window: vtune -r /home/u185959/computacion_paralela/CPAR_GPUs/r000ps -command stop.\n",
      "===============================\n",
      " Initialize Gravity Simulation\n",
      " nPart = 16000; nSteps = 10; dt = 0.1\n",
      "------------------------------------------------\n",
      " s       dt      kenergy     time (s)    GFLOPS      \n",
      "------------------------------------------------\n",
      " 1       0.1     26.405      0.76754     9.6728      \n",
      " 2       0.2     313.77      0.026696    278.1       \n",
      " 3       0.3     926.56      0.016498    450.02      \n",
      " 4       0.4     1866.4      0.015813    469.52      \n",
      " 5       0.5     3135.6      0.015798    469.95      \n",
      " 6       0.6     4737.6      0.015743    471.58      \n",
      " 7       0.7     6676.6      0.01578     470.5       \n",
      " 8       0.8     8957.7      0.015904    466.81      \n",
      " 9       0.9     11587       0.015812    469.53      \n",
      " 10      1       14572       0.015564    477.01      \n",
      "\n",
      "# Total Time (s)     : 0.9214\n",
      "# Average Performance : 468.11 +- 7.3575\n",
      "===============================\n",
      "vtune: Collection stopped.\n",
      "vtune: Using result path `/home/u185959/computacion_paralela/CPAR_GPUs/r000ps'\n",
      "vtune: Executing actions 75 % Generating a report                              Elapsed Time: 4.355s\n",
      "    IPC: 1.013\n",
      "    SP GFLOPS: 18.595\n",
      "    DP GFLOPS: 0.000\n",
      "    x87 GFLOPS: 0.000\n",
      "    Average CPU Frequency: 2.536 GHz\n",
      "Logical Core Utilization: 2.7% (0.637 out of 24)\n",
      " | The metric value is low, which may signal a poor logical CPU cores\n",
      " | utilization. Consider improving physical core utilization as the first step\n",
      " | and then look at opportunities to utilize logical cores, which in some cases\n",
      " | can improve processor throughput and overall performance of multi-threaded\n",
      " | applications.\n",
      " |\n",
      "    Physical Core Utilization: 3.3% (0.394 out of 12)\n",
      "     | The metric value is low, which may signal a poor physical CPU cores\n",
      "     | utilization caused by:\n",
      "     |     - load imbalance\n",
      "     |     - threading runtime overhead\n",
      "     |     - contended synchronization\n",
      "     |     - thread/process underutilization\n",
      "     |     - incorrect affinity that utilizes logical cores instead of physical\n",
      "     |       cores\n",
      "     | Run the HPC Performance Characterization analysis to estimate the\n",
      "     | efficiency of MPI and OpenMP parallelism or run the Locks and Waits\n",
      "     | analysis to identify parallel bottlenecks for other parallel runtimes.\n",
      "     |\n",
      "Microarchitecture Usage: 43.9% of Pipeline Slots\n",
      " | You code efficiency on this platform is too low.\n",
      " | \n",
      " | Possible cause: memory stalls, instruction starvation, branch misprediction\n",
      " | or long latency instructions.\n",
      " | \n",
      " | Next steps: Run Microarchitecture Exploration analysis to identify the cause\n",
      " | of the low microarchitecture usage efficiency.\n",
      " |\n",
      "    Retiring: 43.9% of Pipeline Slots\n",
      "    Front-End Bound: 17.0% of Pipeline Slots\n",
      "     | Issue: A significant portion of Pipeline Slots is remaining empty due to\n",
      "     | issues in the Front-End.\n",
      "     | \n",
      "     | Tips:  Make sure the code working size is not too large, the code layout\n",
      "     | does not require too many memory accesses per cycle to get enough\n",
      "     | instructions for filling four pipeline slots, or check for microcode\n",
      "     | assists.\n",
      "     |\n",
      "    Bad Speculation: 5.5% of Pipeline Slots\n",
      "    Back-End Bound: 33.6% of Pipeline Slots\n",
      "     | A significant portion of pipeline slots are remaining empty. When\n",
      "     | operations take too long in the back-end, they introduce bubbles in the\n",
      "     | pipeline that ultimately cause fewer pipeline slots containing useful\n",
      "     | work to be retired per cycle than the machine is capable to support. This\n",
      "     | opportunity cost results in slower execution. Long-latency operations\n",
      "     | like divides and memory operations can cause this, as can too many\n",
      "     | operations being directed to a single execution port (for example, more\n",
      "     | multiply operations arriving in the back-end per cycle than the execution\n",
      "     | unit can support).\n",
      "     |\n",
      "        Memory Bound: 8.8% of Pipeline Slots\n",
      "            L1 Bound: 17.6% of Clockticks\n",
      "                FB Full: 49.6% of Clockticks\n",
      "            L2 Bound: 0.5% of Clockticks\n",
      "            L3 Bound: 1.7% of Clockticks\n",
      "                L3 Latency: 2.5% of Clockticks\n",
      "            DRAM Bound: 1.3% of Clockticks\n",
      "                Memory Bandwidth: 1.8% of Clockticks\n",
      "                Memory Latency: 6.5% of Clockticks\n",
      "                    Local DRAM: 2.6% of Clockticks\n",
      "                    Remote DRAM: 0.1% of Clockticks\n",
      "                    Remote Cache: 0.0% of Clockticks\n",
      "            Store Bound: 1.2% of Clockticks\n",
      "        Core Bound: 24.9% of Pipeline Slots\n",
      "         | This metric represents how much Core non-memory issues were of a\n",
      "         | bottleneck. Shortage in hardware compute resources, or dependencies\n",
      "         | software's instructions are both categorized under Core Bound. Hence\n",
      "         | it may indicate the machine ran out of an OOO resources, certain\n",
      "         | execution units are overloaded or dependencies in program's data- or\n",
      "         | instruction- flow are limiting the performance (e.g. FP-chained long-\n",
      "         | latency arithmetic operations).\n",
      "         |\n",
      "Memory Bound: 8.8% of Pipeline Slots\n",
      "    Cache Bound: 19.8% of Clockticks\n",
      "    DRAM Bound: 1.3% of Clockticks\n",
      "        Average DRAM Bandwidth, GB/s: 0.000\n",
      "    NUMA: % of Remote Accesses: 1.1%\n",
      "Vectorization: 100.0% of Packed FP Operations\n",
      "    Instruction Mix\n",
      "        SP FLOPs: 66.2% of uOps\n",
      "            Packed: 100.0% from SP FP\n",
      "                128-bit: 0.0% from SP FP\n",
      "                256-bit: 0.0% from SP FP\n",
      "                512-bit: 100.0% from SP FP\n",
      "            Scalar: 0.0% from SP FP\n",
      "        DP FLOPs: 0.0% of uOps\n",
      "            Packed: 0.0% from DP FP\n",
      "                128-bit: 0.0% from DP FP\n",
      "                256-bit: 0.0% from DP FP\n",
      "                512-bit: 0.0% from DP FP\n",
      "            Scalar: 100.0% from DP FP\n",
      "             | This code has floating point operations and is not vectorized.\n",
      "             | Consider either recompiling the code with optimization options\n",
      "             | that allow vectorization or using Intel Advisor to vectorize the\n",
      "             | loops.\n",
      "             |\n",
      "        x87 FLOPs: 0.0% of uOps\n",
      "        Non-FP: 33.8% of uOps\n",
      "    FP Arith/Mem Rd Instr. Ratio: 4.296\n",
      "    FP Arith/Mem Wr Instr. Ratio: 9.717\n",
      "Collection and Platform Info\n",
      "    Application Command Line: /home/u185959/computacion_paralela/CPAR_GPUs/oneAPI-samples/DirectProgramming/C++SYCL/N-BodyMethods/Nbody/build/src/nbody \n",
      "    Operating System: 5.4.0-80-generic DISTRIB_ID=Ubuntu DISTRIB_RELEASE=20.04 DISTRIB_CODENAME=focal DISTRIB_DESCRIPTION=\"Ubuntu 20.04.6 LTS\"\n",
      "    Computer Name: s001-n064\n",
      "    Result Size: 3.7 MB \n",
      "    Collection start time: 21:41:01 16/03/2023 UTC\n",
      "    Collection stop time: 21:41:06 16/03/2023 UTC\n",
      "    Collector Type: Driverless Perf per-process counting\n",
      "    CPU\n",
      "        Name: Intel(R) Xeon(R) Processor code named Skylake\n",
      "        Frequency: 3.392 GHz\n",
      "        Logical CPU Count: 24\n",
      "        Max DRAM Single-Package Bandwidth: 53.000 GB/s\n",
      "        LLC size: 20.2 MB \n",
      "        Cache Allocation Technology\n",
      "            Level 2 capability: not detected\n",
      "            Level 3 capability: available\n",
      "\n",
      "Recommendations:\n",
      "    Hotspots: Start with Hotspots analysis to understand the efficiency of your algorithm.\n",
      "     | Use Hotspots analysis to identify the most time consuming functions.\n",
      "     | Drill down to see the time spent on every line of code.\n",
      "    Threading: There is poor utilization of logical CPU cores (2.7%) in your application.\n",
      "     |  Use Threading to explore more opportunities to increase parallelism in\n",
      "     | your application.\n",
      "    Microarchitecture Exploration: There is low microarchitecture usage (43.9%) of available hardware resources.\n",
      "     | Run Microarchitecture Exploration analysis to analyze CPU\n",
      "     | microarchitecture bottlenecks that can affect application performance.\n",
      "\n",
      "If you want to skip descriptions of detected performance issues in the report,\n",
      "enter: vtune -report summary -report-knob show-issues=false -r <my_result_dir>.\n",
      "Alternatively, you may view the report in the csv format: vtune -report\n",
      "<report_name> -format=csv.\n",
      "vtune: Executing actions 100 % done                                            \n"
     ]
    }
   ],
   "source": [
    "!vtune -collect performance-snapshot -- /home/u185959/computacion_paralela/CPAR_GPUs/oneAPI-samples/DirectProgramming/C++SYCL/N-BodyMethods/Nbody/build/src/nbody"
   ]
  },
  {
   "cell_type": "code",
   "execution_count": null,
   "id": "234d0530-005c-4d61-8bba-5e23043dcfbe",
   "metadata": {},
   "outputs": [],
   "source": []
  },
  {
   "cell_type": "code",
   "execution_count": null,
   "id": "caff1d37-8150-4671-a995-346075aa3794",
   "metadata": {},
   "outputs": [],
   "source": []
  }
 ],
 "metadata": {
  "kernelspec": {
   "display_name": "Python 3 (Intel® oneAPI 2023.0)",
   "language": "python",
   "name": "c009-intel_distribution_of_python_3_oneapi-beta05-python"
  },
  "language_info": {
   "codemirror_mode": {
    "name": "ipython",
    "version": 3
   },
   "file_extension": ".py",
   "mimetype": "text/x-python",
   "name": "python",
   "nbconvert_exporter": "python",
   "pygments_lexer": "ipython3",
   "version": "3.9.15"
  }
 },
 "nbformat": 4,
 "nbformat_minor": 5
}
